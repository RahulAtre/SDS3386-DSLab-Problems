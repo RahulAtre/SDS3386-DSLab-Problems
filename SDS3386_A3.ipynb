{
 "cells": [
  {
   "cell_type": "markdown",
   "id": "38b04652",
   "metadata": {},
   "source": [
    "# SDS 3386 Assignment 3 - Statistics\n",
    "\n",
    "2023 Fall, Rahul Atre\n",
    "\n",
    "Total Marks: 10"
   ]
  },
  {
   "cell_type": "code",
   "execution_count": 1,
   "id": "8f38b141",
   "metadata": {},
   "outputs": [],
   "source": [
    "#Imports for the assignment\n",
    "import numpy as np\n",
    "import pandas as pd\n",
    "import pingouin as pg\n",
    "import matplotlib.pyplot as plt\n",
    "import altair as alt \n",
    "from scipy import stats "
   ]
  },
  {
   "cell_type": "markdown",
   "id": "01e0ea43",
   "metadata": {},
   "source": [
    "## Question 1 (2 marks)\n",
    "\n",
    "Dana has different ways to commute to work: she rides her bike 30% of the time, drives her car 10% of the time, and rides the bus 60% of the time. If she takes her car or the bus, she is late 20% of the time. If she bikes, she is late only 10% of the time. I noticed Dana was late to work today. What is the probability she took the bus?\n",
    "\n",
    "\n",
    "\n"
   ]
  },
  {
   "cell_type": "markdown",
   "id": "0bca8848",
   "metadata": {},
   "source": [
    "Let P(A) = 0.3 be the probability of commuting using bike <br>\n",
    "Let P(B) = 0.1 be the probability of commuting using car <br>\n",
    "Let P(C) = 0.6 be the probability of commuting using bus <br>\n",
    "\n",
    "P(L|B) = 0.2 -> Probability of being late given that Dana takes the bus <br>\n",
    "P(L|C) = 0.2 -> Probability of being late given that Dana takes the car <br>\n",
    "P(L|A) = 0.1 -> Probability of being late given that Dana takes the bike <br>\n",
    "\n",
    "We are asked to calculate P(C | L), which we can use Bayes' theorem to calculate\n",
    "\n",
    "$$P(C|L) = \\frac{P(L|C)\\cdot P(C)}{P(L)}$$\n",
    "\n",
    "Before computing this value, we need to find P(L), the total probability of being late. This can be calcuated as follows:\n",
    "\n",
    "$$P(L) = P(L|A)\\cdot P(A) + P(L|B)\\cdot P(B) + P(L|C)\\cdot P(C)$$ \n",
    "$$ => P(L) = (0.1)(0.3) + (0.2)(0.1) + (0.2)(0.6)$$ \n",
    "$$ => P(L) = 0.17$$ \n",
    "\n",
    "Now we can calculate P(C|L):\n",
    "$$P(C|L) = \\frac{0.2 \\cdot 0.6}{0.17}$$ \n",
    "\n",
    "$$ => P(C|L) = 0.705882$$ <br>\n",
    "\n",
    "Therefore, the probability that Dana took the bus given that she was late to work today is 70.5882%\n"
   ]
  },
  {
   "cell_type": "markdown",
   "id": "e6e768d2",
   "metadata": {},
   "source": [
    "## Question 2 (2 marks)\n",
    "\n",
    "(a) The following is a contour plot of the probability density function of a bivariate normal distribution N (µ, Σ), where µ ∈ R^2 is the mean and Σ is the 2 × 2 covariance matrix. The plot was produced as in the Week 4 Lab. By trial and error, estimate µ and Σ, i.e. find values for each entry such that the contour plot looks like this. All estimates should be within 1 of the true values.\n",
    "\n",
    "(b) If the diagonal entries of a 2×2 covariance matrix Σ are 4 and 9, what is the maximum value of the off-diagonal entries? Justify your answer either by reference to theory, or by numerical experiment."
   ]
  },
  {
   "cell_type": "code",
   "execution_count": 2,
   "id": "3c21282b",
   "metadata": {},
   "outputs": [
    {
     "data": {
      "image/png": "[encoded data removed]",
      "text/plain": [
       "<Figure size 640x480 with 1 Axes>"
      ]
     },
     "metadata": {},
     "output_type": "display_data"
    }
   ],
   "source": [
    "# https://stackoverflow.com/questions/63564845/contour-plots-for-multivariate-gaussian\n",
    "\n",
    "#Part A: \n",
    "cov_mx = [[10.8, -6], [-6,5]]\n",
    "X = stats.multivariate_normal(mean = [0,0], cov = cov_mx).rvs(size=10000)\n",
    "X.shape\n",
    "x, y = np.mgrid[-10:10:.1, -10:10:.1]\n",
    "rv = stats.multivariate_normal([2.4, 2.4], cov_mx)\n",
    "data = np.dstack((x, y))\n",
    "z = rv.pdf(data)\n",
    "plt.contourf(x, y, z, cmap='viridis')\n",
    "plt.show()"
   ]
  },
  {
   "cell_type": "markdown",
   "id": "54b9ac61",
   "metadata": {},
   "source": [
    "#Part B:\n",
    "\n",
    "For a 2x2 covariance matrix, the diagonal entries of a covariance matrix are the variances of the variables. As such, we have variances of 4 and 9. On the other hand, the off-diagonal entries of the covariance matrix are the covariances between the variables. Based on the Cauchy-Schwarz inequality, the absolute value of the covariance between two variables cannot exceed the square root variances product:\n",
    "\n",
    "$$\\sqrt{4 \\cdot 9} = \\sqrt{36} = 6$$\n",
    "\n",
    "Thus, the theoretical maximum value of the off-diagonal entries can range from -6 to 6."
   ]
  },
  {
   "cell_type": "markdown",
   "id": "2d851202",
   "metadata": {},
   "source": [
    "## Question 3 (3 marks)\n",
    "\n",
    "For the mpg dataset:\n",
    "\n",
    "(a) Do the newer cars have significantly better mean highway mileage than the older cars?\n",
    "\n",
    "(b) Make a heatmap showing the correlations between all of the continuous and ordinal variables in the dataset.\n"
   ]
  },
  {
   "cell_type": "markdown",
   "id": "5cd28cf3",
   "metadata": {},
   "source": [
    "To check if newer cars have significantly better mean highway mileage than the older cars, we must perform a hypothesis test.\n",
    "Let $\\mu_0$ be the newer cars mean highway mileage. Let $\\mu_1$ be the older cars mean highway mileage. So,\n",
    "\n",
    "$$H_0: \\mu_0 = \\mu_1$$\n",
    "$$H_1: \\mu_0 > \\mu_1$$"
   ]
  },
  {
   "cell_type": "code",
   "execution_count": 3,
   "id": "2d694027",
   "metadata": {},
   "outputs": [
    {
     "data": {
      "text/plain": [
       "TtestResult(statistic=0.03286431672888292, pvalue=0.4869055446346965, df=231.6356899224998)"
      ]
     },
     "execution_count": 3,
     "metadata": {},
     "output_type": "execute_result"
    }
   ],
   "source": [
    "#Part A:\n",
    "\n",
    "mpg = pd.read_csv('mpg.csv')  # Read CSV file from local folder\n",
    "\n",
    "old_cars = mpg[mpg['year'] == 1999]['hwy'].dropna()\n",
    "new_cars = mpg[mpg['year'] == 2008]['hwy'].dropna()\n",
    "\n",
    "stats.ttest_ind(new_cars, old_cars, equal_var=False, alternative = 'greater')"
   ]
  },
  {
   "cell_type": "markdown",
   "id": "12bbf014",
   "metadata": {},
   "source": [
    "The obtained p-value is approx. 0.4869, which is less than 0.5, and the t-statistic is approx. 0.0329. The p-value is quite small, but not as small as we'd like at a 0.05 level. Thus we can reject $H_0$ theoretically, although there is not strong evidence to suggest that the mean highway mileage of newer cars is significantly better than that of older cars."
   ]
  },
  {
   "cell_type": "code",
   "execution_count": 4,
   "id": "52fc148d",
   "metadata": {},
   "outputs": [
    {
     "data": {
      "text/html": [
       "\n",
       "<style>\n",
       "  #altair-viz-85f2776cefe441c6b7678c7c0cfc20fa.vega-embed {\n",
       "    width: 100%;\n",
       "    display: flex;\n",
       "  }\n",
       "\n",
       "  #altair-viz-85f2776cefe441c6b7678c7c0cfc20fa.vega-embed details,\n",
       "  #altair-viz-85f2776cefe441c6b7678c7c0cfc20fa.vega-embed details summary {\n",
       "    position: relative;\n",
       "  }\n",
       "</style>\n",
       "<div id=\"altair-viz-85f2776cefe441c6b7678c7c0cfc20fa\"></div>\n",
       "<script type=\"text/javascript\">\n",
       "  var VEGA_DEBUG = (typeof VEGA_DEBUG == \"undefined\") ? {} : VEGA_DEBUG;\n",
       "  (function(spec, embedOpt){\n",
       "    let outputDiv = document.currentScript.previousElementSibling;\n",
       "    if (outputDiv.id !== \"altair-viz-85f2776cefe441c6b7678c7c0cfc20fa\") {\n",
       "      outputDiv = document.getElementById(\"altair-viz-85f2776cefe441c6b7678c7c0cfc20fa\");\n",
       "    }\n",
       "    const paths = {\n",
       "      \"vega\": \"https://cdn.jsdelivr.net/npm/vega@5?noext\",\n",
       "      \"vega-lib\": \"https://cdn.jsdelivr.net/npm/vega-lib?noext\",\n",
       "      \"vega-lite\": \"https://cdn.jsdelivr.net/npm/vega-lite@5.8.0?noext\",\n",
       "      \"vega-embed\": \"https://cdn.jsdelivr.net/npm/vega-embed@6?noext\",\n",
       "    };\n",
       "\n",
       "    function maybeLoadScript(lib, version) {\n",
       "      var key = `${lib.replace(\"-\", \"\")}_version`;\n",
       "      return (VEGA_DEBUG[key] == version) ?\n",
       "        Promise.resolve(paths[lib]) :\n",
       "        new Promise(function(resolve, reject) {\n",
       "          var s = document.createElement('script');\n",
       "          document.getElementsByTagName(\"head\")[0].appendChild(s);\n",
       "          s.async = true;\n",
       "          s.onload = () => {\n",
       "            VEGA_DEBUG[key] = version;\n",
       "            return resolve(paths[lib]);\n",
       "          };\n",
       "          s.onerror = () => reject(`Error loading script: ${paths[lib]}`);\n",
       "          s.src = paths[lib];\n",
       "        });\n",
       "    }\n",
       "\n",
       "    function showError(err) {\n",
       "      outputDiv.innerHTML = `<div class=\"error\" style=\"color:red;\">${err}</div>`;\n",
       "      throw err;\n",
       "    }\n",
       "\n",
       "    function displayChart(vegaEmbed) {\n",
       "      vegaEmbed(outputDiv, spec, embedOpt)\n",
       "        .catch(err => showError(`Javascript Error: ${err.message}<br>This usually means there's a typo in your chart specification. See the javascript console for the full traceback.`));\n",
       "    }\n",
       "\n",
       "    if(typeof define === \"function\" && define.amd) {\n",
       "      requirejs.config({paths});\n",
       "      require([\"vega-embed\"], displayChart, err => showError(`Error loading script: ${err.message}`));\n",
       "    } else {\n",
       "      maybeLoadScript(\"vega\", \"5\")\n",
       "        .then(() => maybeLoadScript(\"vega-lite\", \"5.8.0\"))\n",
       "        .then(() => maybeLoadScript(\"vega-embed\", \"6\"))\n",
       "        .catch(showError)\n",
       "        .then(() => displayChart(vegaEmbed));\n",
       "    }\n",
       "  })({\"config\": {\"view\": {\"continuousWidth\": 300, \"continuousHeight\": 300}}, \"data\": {\"name\": \"data-358ea0eacc4f2dc674e222441db9e6c3\"}, \"mark\": {\"type\": \"rect\"}, \"encoding\": {\"color\": {\"field\": \"corr\", \"type\": \"quantitative\"}, \"x\": {\"axis\": {}, \"field\": \"level_0\", \"title\": \"\", \"type\": \"nominal\"}, \"y\": {\"axis\": {}, \"field\": \"level_1\", \"title\": \"\", \"type\": \"nominal\"}}, \"height\": 200, \"width\": 200, \"$schema\": \"https://vega.github.io/schema/vega-lite/v5.8.0.json\", \"datasets\": {\"data-358ea0eacc4f2dc674e222441db9e6c3\": [{\"level_0\": \"displ\", \"level_1\": \"displ\", \"corr\": 1.0}, {\"level_0\": \"displ\", \"level_1\": \"year\", \"corr\": 0.14784281645020939}, {\"level_0\": \"displ\", \"level_1\": \"cyl\", \"corr\": 0.9302271024198506}, {\"level_0\": \"displ\", \"level_1\": \"cty\", \"corr\": -0.7985239689348548}, {\"level_0\": \"displ\", \"level_1\": \"hwy\", \"corr\": -0.7660200208864677}, {\"level_0\": \"year\", \"level_1\": \"displ\", \"corr\": 0.14784281645020939}, {\"level_0\": \"year\", \"level_1\": \"year\", \"corr\": 1.0}, {\"level_0\": \"year\", \"level_1\": \"cyl\", \"corr\": 0.12224534743553041}, {\"level_0\": \"year\", \"level_1\": \"cty\", \"corr\": -0.03723229085997207}, {\"level_0\": \"year\", \"level_1\": \"hwy\", \"corr\": 0.0021576430766243365}, {\"level_0\": \"cyl\", \"level_1\": \"displ\", \"corr\": 0.9302271024198506}, {\"level_0\": \"cyl\", \"level_1\": \"year\", \"corr\": 0.12224534743553041}, {\"level_0\": \"cyl\", \"level_1\": \"cyl\", \"corr\": 1.0}, {\"level_0\": \"cyl\", \"level_1\": \"cty\", \"corr\": -0.8057714082675277}, {\"level_0\": \"cyl\", \"level_1\": \"hwy\", \"corr\": -0.7619123538971949}, {\"level_0\": \"cty\", \"level_1\": \"displ\", \"corr\": -0.7985239689348548}, {\"level_0\": \"cty\", \"level_1\": \"year\", \"corr\": -0.03723229085997207}, {\"level_0\": \"cty\", \"level_1\": \"cyl\", \"corr\": -0.8057714082675277}, {\"level_0\": \"cty\", \"level_1\": \"cty\", \"corr\": 1.0}, {\"level_0\": \"cty\", \"level_1\": \"hwy\", \"corr\": 0.955915913649572}, {\"level_0\": \"hwy\", \"level_1\": \"displ\", \"corr\": -0.7660200208864677}, {\"level_0\": \"hwy\", \"level_1\": \"year\", \"corr\": 0.0021576430766243365}, {\"level_0\": \"hwy\", \"level_1\": \"cyl\", \"corr\": -0.7619123538971949}, {\"level_0\": \"hwy\", \"level_1\": \"cty\", \"corr\": 0.955915913649572}, {\"level_0\": \"hwy\", \"level_1\": \"hwy\", \"corr\": 1.0}]}}, {\"mode\": \"vega-lite\"});\n",
       "</script>"
      ],
      "text/plain": [
       "alt.Chart(...)"
      ]
     },
     "execution_count": 4,
     "metadata": {},
     "output_type": "execute_result"
    }
   ],
   "source": [
    "#Part B:\n",
    "\n",
    "mpg_numeric = mpg[['displ', 'year', 'cyl', 'cty', 'hwy']].corr()\n",
    "\n",
    "mpg_numeric_tidy = mpg_numeric.stack().reset_index().rename(columns={0: 'corr'})\n",
    "\n",
    "alt.Chart(mpg_numeric_tidy).mark_rect().encode(\n",
    "    x = alt.X('level_0').axis().title(''),  # no axis label (\"title\")\n",
    "    y = alt.Y('level_1').axis().title(''),\n",
    "    color = 'corr'\n",
    ").properties(\n",
    "    width=200,\n",
    "    height=200\n",
    ")"
   ]
  },
  {
   "cell_type": "markdown",
   "id": "bcc11649",
   "metadata": {},
   "source": [
    "## Question 4 (3 marks)\n",
    "\n",
    "(a) Among Gentoo penguins, is bill length significantly correlated with flipper length?\n",
    "\n",
    "(b) Among male penguins, are there any significant differences in mean bill depth between different species?"
   ]
  },
  {
   "cell_type": "code",
   "execution_count": 5,
   "id": "275bdcc5",
   "metadata": {},
   "outputs": [
    {
     "data": {
      "text/html": [
       "<div>\n",
       "<style scoped>\n",
       "    .dataframe tbody tr th:only-of-type {\n",
       "        vertical-align: middle;\n",
       "    }\n",
       "\n",
       "    .dataframe tbody tr th {\n",
       "        vertical-align: top;\n",
       "    }\n",
       "\n",
       "    .dataframe thead th {\n",
       "        text-align: right;\n",
       "    }\n",
       "</style>\n",
       "<table border=\"1\" class=\"dataframe\">\n",
       "  <thead>\n",
       "    <tr style=\"text-align: right;\">\n",
       "      <th></th>\n",
       "      <th>n</th>\n",
       "      <th>r</th>\n",
       "      <th>CI95%</th>\n",
       "      <th>p-val</th>\n",
       "      <th>BF10</th>\n",
       "      <th>power</th>\n",
       "    </tr>\n",
       "  </thead>\n",
       "  <tbody>\n",
       "    <tr>\n",
       "      <th>pearson</th>\n",
       "      <td>119</td>\n",
       "      <td>0.664205</td>\n",
       "      <td>[0.55, 0.75]</td>\n",
       "      <td>1.803166e-16</td>\n",
       "      <td>3.962e+13</td>\n",
       "      <td>1.0</td>\n",
       "    </tr>\n",
       "  </tbody>\n",
       "</table>\n",
       "</div>"
      ],
      "text/plain": [
       "           n         r         CI95%         p-val       BF10  power\n",
       "pearson  119  0.664205  [0.55, 0.75]  1.803166e-16  3.962e+13    1.0"
      ]
     },
     "execution_count": 5,
     "metadata": {},
     "output_type": "execute_result"
    }
   ],
   "source": [
    "url = \"https://raw.githubusercontent.com/mwaskom/seaborn-data/master/penguins.csv\" #Grabbing raw data from github csv file\n",
    "penguin_df = pd.read_csv(url) #Converting csv -> pandas dataframe\n",
    "\n",
    "#Part A: \n",
    "\n",
    "gentoo = penguin_df[penguin_df['species'] == \"Gentoo\"].dropna()\n",
    "pg.corr(gentoo['bill_length_mm'], gentoo['flipper_length_mm'])"
   ]
  },
  {
   "cell_type": "markdown",
   "id": "c039da50",
   "metadata": {},
   "source": [
    "a) Using the pingouin package, we checked the correlation between bill length and flipper length for Gentoo penguins. The correlation outputted is 0.664205, and the p-value is approx. 1.8e-16, which is very small. Thus, there is strong evidence to suggest that there is a significant correlation between the two variables."
   ]
  },
  {
   "cell_type": "markdown",
   "id": "6851f08b",
   "metadata": {},
   "source": [
    "b) To check if there is any significant difference in mean depth between the three different species, we can use two methods. The first is using the stats.f_oneway, which is the one-way Analysis of Variance (ANOVA) that generalises t-tests to 3 or more categories. So,\n",
    "\n",
    "    H0: the mean differences in bill depth between the 3 species are equal.\n",
    "    H1: at least two means of the bill depth between the 3 species are unequal."
   ]
  },
  {
   "cell_type": "code",
   "execution_count": 6,
   "id": "4187e09e",
   "metadata": {},
   "outputs": [
    {
     "data": {
      "text/plain": [
       "F_onewayResult(statistic=294.6999029140085, pvalue=3.469732882810313e-55)"
      ]
     },
     "execution_count": 6,
     "metadata": {},
     "output_type": "execute_result"
    }
   ],
   "source": [
    "#Part B:\n",
    "adelie_bill_depth = penguin_df.loc[(penguin_df['sex'] == 'MALE') & (penguin_df['species'] == 'Adelie'), 'bill_depth_mm'].dropna()\n",
    "chinstrap_bill_depth = penguin_df.loc[(penguin_df['sex'] == 'MALE') & (penguin_df['species'] == 'Chinstrap'), 'bill_depth_mm'].dropna()\n",
    "gentoo_bill_depth = penguin_df.loc[(penguin_df['sex'] == 'MALE') & (penguin_df['species'] == 'Gentoo'), 'bill_depth_mm'].dropna()\n",
    "\n",
    "\n",
    "stats.f_oneway(adelie_bill_depth, chinstrap_bill_depth, gentoo_bill_depth)"
   ]
  },
  {
   "cell_type": "markdown",
   "id": "9670e615",
   "metadata": {},
   "source": [
    "The p-value obtained is approx. 3.46e-55, which is incredibly small. Thus, we can conclude that there is strong evidence to suggest a significant differences in mean bill depth between different species for at least two species.\n",
    "\n",
    "The second method is to perform individual t-tests between all pairs of the three species:"
   ]
  },
  {
   "cell_type": "code",
   "execution_count": 7,
   "id": "cb36d62a",
   "metadata": {},
   "outputs": [
    {
     "name": "stdout",
     "output_type": "stream",
     "text": [
      "t-test result for Adelie vs. Chinstrap: 0.310705133969359\n",
      "t-test result for Adelie vs. Gentoo: 1.2639997214033501e-45\n",
      "t-test result for Chinstrap vs. Gentoo: 3.3365151432041e-32\n"
     ]
    }
   ],
   "source": [
    "stat, p = stats.ttest_ind(adelie_bill_depth, chinstrap_bill_depth, equal_var=False)\n",
    "print(f't-test result for Adelie vs. Chinstrap: {p}')\n",
    "stat, p = stats.ttest_ind(adelie_bill_depth, gentoo_bill_depth, equal_var=False)\n",
    "print(f't-test result for Adelie vs. Gentoo: {p}')\n",
    "stat, p = stats.ttest_ind(chinstrap_bill_depth, gentoo_bill_depth, equal_var=False)\n",
    "print(f't-test result for Chinstrap vs. Gentoo: {p}')\n"
   ]
  },
  {
   "cell_type": "markdown",
   "id": "ce0d57c8",
   "metadata": {},
   "source": [
    "All individual t-test results are very small, except the first one at a 0.05 level, Adelie vs. Chinstrap. We could say that for the specific case of Adelie and Chinstrap species, there is not a strong significant difference in mean bill depth."
   ]
  },
  {
   "cell_type": "code",
   "execution_count": null,
   "id": "e60dce72",
   "metadata": {},
   "outputs": [],
   "source": []
  }
 ],
 "metadata": {
  "kernelspec": {
   "display_name": "Python 3 (ipykernel)",
   "language": "python",
   "name": "python3"
  },
  "language_info": {
   "codemirror_mode": {
    "name": "ipython",
    "version": 3
   },
   "file_extension": ".py",
   "mimetype": "text/x-python",
   "name": "python",
   "nbconvert_exporter": "python",
   "pygments_lexer": "ipython3",
   "version": "3.9.18"
  }
 },
 "nbformat": 4,
 "nbformat_minor": 5
}
